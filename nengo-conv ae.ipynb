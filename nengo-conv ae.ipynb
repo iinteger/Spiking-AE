{
 "cells": [
  {
   "cell_type": "code",
   "execution_count": 15,
   "metadata": {},
   "outputs": [
    {
     "name": "stdout",
     "output_type": "stream",
     "text": [
      "Build finished in 0:00:00                                                      \n",
      "Optimization finished in 0:00:00                                               \n",
      "Construction finished in 0:00:00                                               \n",
      "Epoch 1/100\n",
      "WARNING:tensorflow:AutoGraph could not transform <function Model.make_train_function.<locals>.train_function at 0x000001A7E642EC18> and will run it as-is.\n",
      "Please report this to the TensorFlow team. When filing the bug, set the verbosity to 10 (on Linux, `export AUTOGRAPH_VERBOSITY=10`) and attach the full output.\n",
      "Cause: 'arguments' object has no attribute 'posonlyargs'\n",
      "To silence this warning, decorate the function with @tf.autograph.experimental.do_not_convert\n"
     ]
    },
    {
     "name": "stderr",
     "output_type": "stream",
     "text": [
      "WARNING:tensorflow:AutoGraph could not transform <function Model.make_train_function.<locals>.train_function at 0x000001A7E642EC18> and will run it as-is.\n",
      "Please report this to the TensorFlow team. When filing the bug, set the verbosity to 10 (on Linux, `export AUTOGRAPH_VERBOSITY=10`) and attach the full output.\n",
      "Cause: 'arguments' object has no attribute 'posonlyargs'\n",
      "To silence this warning, decorate the function with @tf.autograph.experimental.do_not_convert\n"
     ]
    },
    {
     "name": "stdout",
     "output_type": "stream",
     "text": [
      "WARNING: AutoGraph could not transform <function Model.make_train_function.<locals>.train_function at 0x000001A7E642EC18> and will run it as-is.\n",
      "Please report this to the TensorFlow team. When filing the bug, set the verbosity to 10 (on Linux, `export AUTOGRAPH_VERBOSITY=10`) and attach the full output.\n",
      "Cause: 'arguments' object has no attribute 'posonlyargs'\n",
      "To silence this warning, decorate the function with @tf.autograph.experimental.do_not_convert\n",
      "Constructing graph: build stage finished in 0:00:00                            \r"
     ]
    },
    {
     "name": "stderr",
     "output_type": "stream",
     "text": [
      "C:\\Users\\USER\\anaconda3\\envs\\data\\lib\\site-packages\\nengo_dl\\simulator.py:2107: RuntimeWarning: Simulator with model=Model: <Network (unlabeled) at 0x1ab445b77c8>, dt=0.001000 was deallocated while open. Simulators should be closed manually to ensure resources are properly freed.\n",
      "  RuntimeWarning,\n"
     ]
    },
    {
     "name": "stdout",
     "output_type": "stream",
     "text": [
      "468/468 [==============================] - 18s 27ms/step - loss: -181.1658 - out_p_loss: -181.1658\n",
      "Epoch 2/100\n",
      "468/468 [==============================] - 12s 27ms/step - loss: -496.6614 - out_p_loss: -496.6614\n",
      "Epoch 3/100\n",
      "468/468 [==============================] - 13s 27ms/step - loss: -497.6505 - out_p_loss: -497.6505\n",
      "Epoch 4/100\n",
      "468/468 [==============================] - 13s 27ms/step - loss: -499.2738 - out_p_loss: -499.2738\n",
      "Epoch 5/100\n",
      "468/468 [==============================] - 13s 27ms/step - loss: -499.9046 - out_p_loss: -499.9046\n",
      "Epoch 6/100\n",
      "468/468 [==============================] - 12s 27ms/step - loss: -503.3662 - out_p_loss: -503.3662\n",
      "Epoch 7/100\n",
      "468/468 [==============================] - 12s 27ms/step - loss: -502.4026 - out_p_loss: -502.4026\n",
      "Epoch 8/100\n",
      "468/468 [==============================] - 12s 27ms/step - loss: -502.1121 - out_p_loss: -502.1121\n",
      "Epoch 9/100\n",
      "468/468 [==============================] - 13s 27ms/step - loss: -502.7956 - out_p_loss: -502.7956\n",
      "Epoch 10/100\n",
      "468/468 [==============================] - 13s 27ms/step - loss: -503.8152 - out_p_loss: -503.81520s - loss: -503.8157 - out_p_loss: -50\n",
      "Epoch 11/100\n",
      "468/468 [==============================] - 12s 27ms/step - loss: -504.3789 - out_p_loss: -504.3789\n",
      "Epoch 12/100\n",
      "468/468 [==============================] - 13s 27ms/step - loss: -504.3058 - out_p_loss: -504.3058\n",
      "Epoch 13/100\n",
      "468/468 [==============================] - 12s 27ms/step - loss: -505.0792 - out_p_loss: -505.0792\n",
      "Epoch 14/100\n",
      "468/468 [==============================] - 13s 27ms/step - loss: -503.8404 - out_p_loss: -503.8404\n",
      "Epoch 15/100\n",
      "468/468 [==============================] - 13s 27ms/step - loss: -503.8095 - out_p_loss: -503.8095\n",
      "Epoch 16/100\n",
      "468/468 [==============================] - 12s 27ms/step - loss: -504.6658 - out_p_loss: -504.6658\n",
      "Epoch 17/100\n",
      "468/468 [==============================] - 12s 27ms/step - loss: -504.0868 - out_p_loss: -504.0868\n",
      "Epoch 18/100\n",
      "468/468 [==============================] - 13s 27ms/step - loss: -504.2080 - out_p_loss: -504.2080\n",
      "Epoch 19/100\n",
      "468/468 [==============================] - 13s 27ms/step - loss: -503.7740 - out_p_loss: -503.7740\n",
      "Epoch 20/100\n",
      "468/468 [==============================] - 13s 27ms/step - loss: -504.7201 - out_p_loss: -504.7201\n",
      "Epoch 21/100\n",
      "468/468 [==============================] - 13s 27ms/step - loss: -504.3602 - out_p_loss: -504.3602\n",
      "Epoch 22/100\n",
      "468/468 [==============================] - 13s 28ms/step - loss: -505.0465 - out_p_loss: -505.0465\n",
      "Epoch 23/100\n",
      "468/468 [==============================] - 13s 29ms/step - loss: -504.8011 - out_p_loss: -504.8011\n",
      "Epoch 24/100\n",
      "468/468 [==============================] - 12s 26ms/step - loss: -503.6216 - out_p_loss: -503.6216\n",
      "Epoch 25/100\n",
      "468/468 [==============================] - 12s 26ms/step - loss: -504.3996 - out_p_loss: -504.3996\n",
      "Epoch 26/100\n",
      "468/468 [==============================] - 12s 26ms/step - loss: -505.4901 - out_p_loss: -505.4901\n",
      "Epoch 27/100\n",
      "468/468 [==============================] - 12s 26ms/step - loss: -504.7097 - out_p_loss: -504.7097\n",
      "Epoch 28/100\n",
      "468/468 [==============================] - 12s 26ms/step - loss: -505.1266 - out_p_loss: -505.1266\n",
      "Epoch 29/100\n",
      "468/468 [==============================] - 13s 28ms/step - loss: -504.2172 - out_p_loss: -504.2172\n",
      "Epoch 30/100\n",
      "468/468 [==============================] - 12s 26ms/step - loss: -504.9815 - out_p_loss: -504.9815\n",
      "Epoch 31/100\n",
      "468/468 [==============================] - 12s 26ms/step - loss: -504.8822 - out_p_loss: -504.8822\n",
      "Epoch 32/100\n",
      "468/468 [==============================] - 13s 27ms/step - loss: -505.0360 - out_p_loss: -505.0360\n",
      "Epoch 33/100\n",
      "468/468 [==============================] - 13s 27ms/step - loss: -504.0744 - out_p_loss: -504.0744\n",
      "Epoch 34/100\n",
      "468/468 [==============================] - 12s 27ms/step - loss: -505.6505 - out_p_loss: -505.6505\n",
      "Epoch 35/100\n",
      "468/468 [==============================] - 12s 27ms/step - loss: -504.8365 - out_p_loss: -504.8365\n",
      "Epoch 36/100\n",
      "468/468 [==============================] - 12s 27ms/step - loss: -504.8772 - out_p_loss: -504.8772\n",
      "Epoch 37/100\n",
      "468/468 [==============================] - 12s 27ms/step - loss: -505.7252 - out_p_loss: -505.7252\n",
      "Epoch 38/100\n",
      "468/468 [==============================] - 12s 27ms/step - loss: -504.1363 - out_p_loss: -504.1363\n",
      "Epoch 39/100\n",
      "468/468 [==============================] - 12s 27ms/step - loss: -505.5817 - out_p_loss: -505.5817\n",
      "Epoch 40/100\n",
      "468/468 [==============================] - 12s 27ms/step - loss: -505.3765 - out_p_loss: -505.3765\n",
      "Epoch 41/100\n",
      "468/468 [==============================] - 12s 27ms/step - loss: -505.4076 - out_p_loss: -505.4076\n",
      "Epoch 42/100\n",
      "468/468 [==============================] - 12s 26ms/step - loss: -505.1223 - out_p_loss: -505.1223\n",
      "Epoch 43/100\n",
      "468/468 [==============================] - 13s 27ms/step - loss: -504.9533 - out_p_loss: -504.9533\n",
      "Epoch 44/100\n",
      "468/468 [==============================] - 12s 27ms/step - loss: -504.2408 - out_p_loss: -504.2408\n",
      "Epoch 45/100\n",
      "468/468 [==============================] - 12s 26ms/step - loss: -504.7384 - out_p_loss: -504.7384\n",
      "Epoch 46/100\n",
      "468/468 [==============================] - 12s 27ms/step - loss: -504.6038 - out_p_loss: -504.6038\n",
      "Epoch 47/100\n",
      "468/468 [==============================] - 12s 27ms/step - loss: -504.8889 - out_p_loss: -504.8889\n",
      "Epoch 48/100\n",
      "468/468 [==============================] - 12s 26ms/step - loss: -504.6762 - out_p_loss: -504.6762\n",
      "Epoch 49/100\n",
      "468/468 [==============================] - 12s 26ms/step - loss: -506.4846 - out_p_loss: -506.4846\n",
      "Epoch 50/100\n",
      "468/468 [==============================] - 12s 27ms/step - loss: -504.9463 - out_p_loss: -504.9463\n",
      "Epoch 51/100\n",
      "468/468 [==============================] - 13s 27ms/step - loss: -504.3413 - out_p_loss: -504.3413\n",
      "Epoch 52/100\n",
      "468/468 [==============================] - 12s 27ms/step - loss: -504.9379 - out_p_loss: -504.9379\n",
      "Epoch 53/100\n",
      "468/468 [==============================] - 13s 27ms/step - loss: -507.0244 - out_p_loss: -507.0244\n",
      "Epoch 54/100\n",
      "468/468 [==============================] - 12s 27ms/step - loss: -505.0538 - out_p_loss: -505.0538\n",
      "Epoch 55/100\n",
      "468/468 [==============================] - 12s 27ms/step - loss: -505.2261 - out_p_loss: -505.2261\n",
      "Epoch 56/100\n",
      "468/468 [==============================] - 12s 27ms/step - loss: -504.5733 - out_p_loss: -504.5733\n",
      "Epoch 57/100\n",
      "468/468 [==============================] - 13s 27ms/step - loss: -504.6696 - out_p_loss: -504.6696\n",
      "Epoch 58/100\n",
      "468/468 [==============================] - 13s 28ms/step - loss: -504.7577 - out_p_loss: -504.7577\n",
      "Epoch 59/100\n",
      "468/468 [==============================] - 13s 28ms/step - loss: -504.1492 - out_p_loss: -504.1492\n",
      "Epoch 60/100\n",
      "468/468 [==============================] - 13s 27ms/step - loss: -504.2346 - out_p_loss: -504.2346\n",
      "Epoch 61/100\n",
      "468/468 [==============================] - 13s 27ms/step - loss: -505.3080 - out_p_loss: -505.3080\n",
      "Epoch 62/100\n",
      "468/468 [==============================] - 13s 27ms/step - loss: -503.8400 - out_p_loss: -503.8400\n",
      "Epoch 63/100\n",
      "468/468 [==============================] - 13s 27ms/step - loss: -505.0765 - out_p_loss: -505.0765\n",
      "Epoch 64/100\n",
      "468/468 [==============================] - 12s 27ms/step - loss: -504.7818 - out_p_loss: -504.7818\n",
      "Epoch 65/100\n",
      "468/468 [==============================] - 12s 27ms/step - loss: -503.9659 - out_p_loss: -503.9659\n",
      "Epoch 66/100\n",
      "468/468 [==============================] - 12s 27ms/step - loss: -505.8648 - out_p_loss: -505.8648\n",
      "Epoch 67/100\n",
      "468/468 [==============================] - 12s 27ms/step - loss: -505.4156 - out_p_loss: -505.4156\n",
      "Epoch 68/100\n",
      "468/468 [==============================] - 12s 27ms/step - loss: -504.4102 - out_p_loss: -504.4102\n",
      "Epoch 69/100\n",
      "468/468 [==============================] - 13s 27ms/step - loss: -503.9213 - out_p_loss: -503.9213\n",
      "Epoch 70/100\n",
      "468/468 [==============================] - 14s 30ms/step - loss: -504.7230 - out_p_loss: -504.7230\n",
      "Epoch 71/100\n",
      "468/468 [==============================] - 13s 27ms/step - loss: -505.6903 - out_p_loss: -505.6903\n",
      "Epoch 72/100\n",
      "468/468 [==============================] - 13s 27ms/step - loss: -505.4786 - out_p_loss: -505.4786\n",
      "Epoch 73/100\n",
      "468/468 [==============================] - 13s 27ms/step - loss: -506.2903 - out_p_loss: -506.2903\n"
     ]
    },
    {
     "name": "stdout",
     "output_type": "stream",
     "text": [
      "Epoch 74/100\n",
      "468/468 [==============================] - 12s 27ms/step - loss: -503.7834 - out_p_loss: -503.7834\n",
      "Epoch 75/100\n",
      "468/468 [==============================] - 12s 27ms/step - loss: -504.3193 - out_p_loss: -504.3193\n",
      "Epoch 76/100\n",
      "468/468 [==============================] - 12s 26ms/step - loss: -504.7672 - out_p_loss: -504.7672\n",
      "Epoch 77/100\n",
      "468/468 [==============================] - 12s 27ms/step - loss: -505.3198 - out_p_loss: -505.3198\n",
      "Epoch 78/100\n",
      "468/468 [==============================] - 12s 27ms/step - loss: -505.7438 - out_p_loss: -505.7438\n",
      "Epoch 79/100\n",
      "468/468 [==============================] - 13s 27ms/step - loss: -504.3178 - out_p_loss: -504.3178\n",
      "Epoch 80/100\n",
      "468/468 [==============================] - 14s 29ms/step - loss: -506.1401 - out_p_loss: -506.1401\n",
      "Epoch 81/100\n",
      "468/468 [==============================] - 13s 27ms/step - loss: -505.6438 - out_p_loss: -505.6438\n",
      "Epoch 82/100\n",
      "468/468 [==============================] - 14s 30ms/step - loss: -505.7674 - out_p_loss: -505.7674\n",
      "Epoch 83/100\n",
      "468/468 [==============================] - 14s 29ms/step - loss: -503.7699 - out_p_loss: -503.7699\n",
      "Epoch 84/100\n",
      "468/468 [==============================] - 35s 76ms/step - loss: -503.6165 - out_p_loss: -503.6165\n",
      "Epoch 85/100\n",
      "468/468 [==============================] - 63s 136ms/step - loss: -505.7016 - out_p_loss: -505.7016\n",
      "Epoch 86/100\n",
      "468/468 [==============================] - 22s 46ms/step - loss: -505.1169 - out_p_loss: -505.1169\n",
      "Epoch 87/100\n",
      "468/468 [==============================] - 109s 233ms/step - loss: -504.6647 - out_p_loss: -504.6647\n",
      "Epoch 88/100\n",
      "468/468 [==============================] - 227s 486ms/step - loss: -504.9270 - out_p_loss: -504.9270\n",
      "Epoch 89/100\n",
      "468/468 [==============================] - 225s 481ms/step - loss: -506.0121 - out_p_loss: -506.0121\n",
      "Epoch 90/100\n",
      "468/468 [==============================] - 280s 598ms/step - loss: -503.3116 - out_p_loss: -503.3116\n",
      "Epoch 91/100\n",
      "468/468 [==============================] - 282s 603ms/step - loss: -505.5448 - out_p_loss: -505.5448\n",
      "Epoch 92/100\n",
      "468/468 [==============================] - 105s 225ms/step - loss: -503.6639 - out_p_loss: -503.6639\n",
      "Epoch 93/100\n",
      "468/468 [==============================] - 64s 137ms/step - loss: -505.0880 - out_p_loss: -505.0880\n",
      "Epoch 94/100\n",
      "468/468 [==============================] - 64s 137ms/step - loss: -504.7469 - out_p_loss: -504.7469\n",
      "Epoch 95/100\n",
      "468/468 [==============================] - 65s 138ms/step - loss: -505.1301 - out_p_loss: -505.1301\n",
      "Epoch 96/100\n",
      "468/468 [==============================] - 64s 136ms/step - loss: -504.5247 - out_p_loss: -504.5247\n",
      "Epoch 97/100\n",
      "468/468 [==============================] - 59s 127ms/step - loss: -504.5169 - out_p_loss: -504.5169\n",
      "Epoch 98/100\n",
      "468/468 [==============================] - 60s 128ms/step - loss: -505.1331 - out_p_loss: -505.1331\n",
      "Epoch 99/100\n",
      "468/468 [==============================] - 64s 137ms/step - loss: -503.8460 - out_p_loss: -503.8460\n",
      "Epoch 100/100\n",
      "468/468 [==============================] - 65s 138ms/step - loss: -504.3004 - out_p_loss: -504.3004\n",
      "WARNING:tensorflow:AutoGraph could not transform <function Model.make_test_function.<locals>.test_function at 0x000001AB44584678> and will run it as-is.\n",
      "Please report this to the TensorFlow team. When filing the bug, set the verbosity to 10 (on Linux, `export AUTOGRAPH_VERBOSITY=10`) and attach the full output.\n",
      "Cause: 'arguments' object has no attribute 'posonlyargs'\n",
      "To silence this warning, decorate the function with @tf.autograph.experimental.do_not_convert\n"
     ]
    },
    {
     "name": "stderr",
     "output_type": "stream",
     "text": [
      "WARNING:tensorflow:AutoGraph could not transform <function Model.make_test_function.<locals>.test_function at 0x000001AB44584678> and will run it as-is.\n",
      "Please report this to the TensorFlow team. When filing the bug, set the verbosity to 10 (on Linux, `export AUTOGRAPH_VERBOSITY=10`) and attach the full output.\n",
      "Cause: 'arguments' object has no attribute 'posonlyargs'\n",
      "To silence this warning, decorate the function with @tf.autograph.experimental.do_not_convert\n"
     ]
    },
    {
     "name": "stdout",
     "output_type": "stream",
     "text": [
      "WARNING: AutoGraph could not transform <function Model.make_test_function.<locals>.test_function at 0x000001AB44584678> and will run it as-is.\n",
      "Please report this to the TensorFlow team. When filing the bug, set the verbosity to 10 (on Linux, `export AUTOGRAPH_VERBOSITY=10`) and attach the full output.\n",
      "Cause: 'arguments' object has no attribute 'posonlyargs'\n",
      "To silence this warning, decorate the function with @tf.autograph.experimental.do_not_convert\n",
      "WARNING:tensorflow:AutoGraph could not transform <function classification_accuracy at 0x000001A7B355DB88> and will run it as-is.\n",
      "Please report this to the TensorFlow team. When filing the bug, set the verbosity to 10 (on Linux, `export AUTOGRAPH_VERBOSITY=10`) and attach the full output.\n",
      "Cause: 'arguments' object has no attribute 'posonlyargs'\n",
      "To silence this warning, decorate the function with @tf.autograph.experimental.do_not_convert\n"
     ]
    },
    {
     "name": "stderr",
     "output_type": "stream",
     "text": [
      "WARNING:tensorflow:AutoGraph could not transform <function classification_accuracy at 0x000001A7B355DB88> and will run it as-is.\n",
      "Please report this to the TensorFlow team. When filing the bug, set the verbosity to 10 (on Linux, `export AUTOGRAPH_VERBOSITY=10`) and attach the full output.\n",
      "Cause: 'arguments' object has no attribute 'posonlyargs'\n",
      "To silence this warning, decorate the function with @tf.autograph.experimental.do_not_convert\n"
     ]
    },
    {
     "name": "stdout",
     "output_type": "stream",
     "text": [
      "WARNING: AutoGraph could not transform <function classification_accuracy at 0x000001A7B355DB88> and will run it as-is.\n",
      "Please report this to the TensorFlow team. When filing the bug, set the verbosity to 10 (on Linux, `export AUTOGRAPH_VERBOSITY=10`) and attach the full output.\n",
      "Cause: 'arguments' object has no attribute 'posonlyargs'\n",
      "To silence this warning, decorate the function with @tf.autograph.experimental.do_not_convert\n",
      "Accuracy after training: 77.15575408935547n 0:00:00                            \n",
      "WARNING:tensorflow:AutoGraph could not transform <function Model.make_predict_function.<locals>.predict_function at 0x000001A7B326D948> and will run it as-is.\n",
      "Please report this to the TensorFlow team. When filing the bug, set the verbosity to 10 (on Linux, `export AUTOGRAPH_VERBOSITY=10`) and attach the full output.\n",
      "Cause: 'arguments' object has no attribute 'posonlyargs'\n",
      "To silence this warning, decorate the function with @tf.autograph.experimental.do_not_convert\n"
     ]
    },
    {
     "name": "stderr",
     "output_type": "stream",
     "text": [
      "WARNING:tensorflow:AutoGraph could not transform <function Model.make_predict_function.<locals>.predict_function at 0x000001A7B326D948> and will run it as-is.\n",
      "Please report this to the TensorFlow team. When filing the bug, set the verbosity to 10 (on Linux, `export AUTOGRAPH_VERBOSITY=10`) and attach the full output.\n",
      "Cause: 'arguments' object has no attribute 'posonlyargs'\n",
      "To silence this warning, decorate the function with @tf.autograph.experimental.do_not_convert\n"
     ]
    },
    {
     "name": "stdout",
     "output_type": "stream",
     "text": [
      "WARNING: AutoGraph could not transform <function Model.make_predict_function.<locals>.predict_function at 0x000001A7B326D948> and will run it as-is.\n",
      "Please report this to the TensorFlow team. When filing the bug, set the verbosity to 10 (on Linux, `export AUTOGRAPH_VERBOSITY=10`) and attach the full output.\n",
      "Cause: 'arguments' object has no attribute 'posonlyargs'\n",
      "To silence this warning, decorate the function with @tf.autograph.experimental.do_not_convert\n",
      "Constructing graph: build stage finished in 0:00:00                            \r"
     ]
    }
   ],
   "source": [
    "import nengo\n",
    "import tensorflow as tf\n",
    "from tensorflow.keras import layers, activations\n",
    "import numpy as np\n",
    "import matplotlib.pyplot as plt\n",
    "import nengo_dl\n",
    "from urllib.request import urlretrieve\n",
    "\n",
    "\n",
    "(x_train,_), (x_test, _) = tf.keras.datasets.mnist.load_data()\n",
    "\n",
    "x_train = x_train.reshape((x_train.shape[0], -1))\n",
    "x_test = x_test.reshape((x_test.shape[0], -1))\n",
    "\n",
    "with nengo.Network(seed=0) as net:\n",
    "    # default parameters\n",
    "    # training progress will be more smoothly\n",
    "    net.config[nengo.Ensemble].max_rates = nengo.dists.Choice([100])\n",
    "    net.config[nengo.Ensemble].intercepts = nengo.dists.Choice([0])\n",
    "    net.config[nengo.Connection].synapse = None\n",
    "    neuron_type = nengo.LIF(amplitude=0.01)\n",
    "\n",
    "    # training speed improve\n",
    "    # True로 하면 optimize\n",
    "    nengo_dl.configure_settings(stateful=False)\n",
    "\n",
    "    # input node\n",
    "    inp = nengo.Node(np.zeros(28 * 28))\n",
    "\n",
    "    # layer\n",
    "    x = nengo_dl.Layer(layers.Conv2D(32, kernel_size=3, padding=\"same\"))(inp, shape_in=(28, 28, 1))\n",
    "    x = nengo_dl.Layer(neuron_type)(x)\n",
    "    x = nengo_dl.Layer(layers.MaxPooling2D((2, 2), padding=\"same\"))(x, shape_in=(28, 28, 32))\n",
    "\n",
    "    x = nengo_dl.Layer(layers.Conv2D(32, kernel_size=3, padding=\"same\"))(x, shape_in=(14, 14, 32))\n",
    "    x = nengo_dl.Layer(neuron_type)(x)\n",
    "    x = nengo_dl.Layer(layers.MaxPooling2D((2, 2), padding=\"same\"))(x, shape_in=(14, 14, 32))\n",
    "\n",
    "\n",
    "    x = nengo_dl.Layer(layers.Conv2DTranspose(32, kernel_size=3, strides=2, padding=\"same\"))(x, shape_in=(7, 7, 32))\n",
    "    x = nengo_dl.Layer(neuron_type)(x)\n",
    "    \n",
    "    x = nengo_dl.Layer(layers.Conv2DTranspose(32, kernel_size=3, strides=2, padding=\"same\"))(x, shape_in=(14, 14, 32))\n",
    "    x = nengo_dl.Layer(neuron_type)(x)\n",
    "    \n",
    "    decoded = nengo_dl.Layer(layers.Conv2D(1, kernel_size=3, padding=\"same\", activation=\"sigmoid\"))(x, shape_in=(28, 28, 32))\n",
    "    #decoded = nengo_dl.Layer(neuron_type)(decoded)\n",
    "\n",
    "    # we'll create two different output probes, one with a filter\n",
    "    # (for when we're simulating the network over time and\n",
    "    # accumulating spikes), and one without (for when we're\n",
    "    # training the network using a rate-based approximation)\n",
    "    out_p = nengo.Probe(decoded, label=\"out_p\")\n",
    "    out_p_filt = nengo.Probe(decoded, synapse=0.1, label=\"out_p_filt\")\n",
    "\n",
    "\n",
    "batch_size = 128\n",
    "sim = nengo_dl.Simulator(net, minibatch_size=batch_size)\n",
    "\n",
    "\n",
    "# add single timestep to training data\n",
    "train_images = x_train[:, None, :]\n",
    "\n",
    "# when testing our network with spiking neurons we will need to run it\n",
    "# over time, so we repeat the input/target data for a number of\n",
    "# timesteps.\n",
    "n_steps = 15\n",
    "test_images = np.tile(x_test[:, None, :], (1, n_steps, 1))  # n_step만큼 같은 데이터를 복사해서 매 스텝 집어넣음\n",
    "\n",
    "\n",
    "def classification_accuracy(y_true, y_pred):\n",
    "    return tf.metrics.binary_crossentropy(y_true[:, -1], y_pred[:, -1])\n",
    "\n",
    "# # note that we use `out_p_filt` when testing (to reduce the spike noise)\n",
    "# sim.compile(loss={out_p_filt: classification_accuracy})\n",
    "# print(\n",
    "#     \"Accuracy before training:\",\n",
    "#     sim.evaluate(test_images, {out_p_filt: test_images}, verbose=0)[\"loss\"],\n",
    "# )\n",
    "\n",
    "do_training = True\n",
    "if do_training:\n",
    "    # run training\n",
    "    sim.compile(\n",
    "        optimizer=tf.optimizers.Adam(0.0001),\n",
    "        loss={out_p: tf.losses.binary_crossentropy}\n",
    "    )\n",
    "    sim.fit(train_images, {out_p: train_images}, epochs=100)\n",
    "\n",
    "    # save the parameters to file\n",
    "    sim.save_params(\"snn_weight/mnist-vae\")\n",
    "    #sim.save_params(\"neuron_data/mnist_params_dense\")\n",
    "else:\n",
    "    # download pretrained weights\n",
    "    # urlretrieve(\n",
    "    #     \"https://drive.google.com/uc?export=download&\"\n",
    "    #     \"id=1l5aivQljFoXzPP5JVccdFXbOYRv3BCJR\",\n",
    "    #     \"mnist_params.npz\",\n",
    "    # )\n",
    "\n",
    "    # load parameters\n",
    "    # sim.load_params(\"./mnist_params_dense\")\n",
    "    sim.load_params(\"snn_weight/mnist-batchnorm\")\n",
    "#    sim.load_params(\"neuron_data/mnist_params_dense\")\n",
    "\n",
    "sim.compile(loss={out_p_filt: classification_accuracy})\n",
    "print(\n",
    "    \"Accuracy after training:\",\n",
    "    sim.evaluate(test_images, {out_p_filt: test_images}, verbose=0)[\"loss\"]\n",
    ")\n",
    "\n",
    "data = sim.predict(test_images[:batch_size])\n",
    "\n",
    "# for i in range(10):\n",
    "#     print(\"zzzz\")\n",
    "#     plt.figure(figsize=(8, 4))\n",
    "#     plt.subplot(1, 2, 1)\n",
    "#     plt.imshow(test_images[i, 0].reshape((28, 28)), cmap=\"gray\")\n",
    "#     plt.axis(\"off\")\n",
    "\n",
    "#     plt.subplot(1, 2, 2)\n",
    "#     plt.plot(tf.nn.softmax(data[out_p_filt][i]))\n",
    "#     plt.legend([str(i) for i in range(10)], loc=\"upper left\")\n",
    "#     plt.xlabel(\"timesteps\")\n",
    "#     plt.ylabel(\"probability\")\n",
    "#     plt.tight_layout()\n",
    "#     plt.show()\n"
   ]
  },
  {
   "cell_type": "code",
   "execution_count": 17,
   "metadata": {},
   "outputs": [
    {
     "data": {
      "text/plain": [
       "(-0.5, 27.5, 27.5, -0.5)"
      ]
     },
     "execution_count": 17,
     "metadata": {},
     "output_type": "execute_result"
    },
    {
     "data": {
      "image/png": "[encoded data removed]",
      "text/plain": [
       "<Figure size 576x288 with 1 Axes>"
      ]
     },
     "metadata": {
      "needs_background": "light"
     },
     "output_type": "display_data"
    }
   ],
   "source": [
    "# label\n",
    "index = 0\n",
    "\n",
    "plt.figure(figsize=(8, 4))\n",
    "plt.subplot(1, 2, 1)\n",
    "plt.imshow(test_images[index, n_steps-1].reshape((28, 28)), cmap=\"gray\")\n",
    "plt.axis(\"off\")\n",
    "\n",
    "#plt.imshow(data[out_p][0][29].reshape(28, 28))"
   ]
  },
  {
   "cell_type": "code",
   "execution_count": 18,
   "metadata": {
    "scrolled": true
   },
   "outputs": [
    {
     "name": "stdout",
     "output_type": "stream",
     "text": [
      "15\n"
     ]
    },
    {
     "data": {
      "image/png": "[encoded data removed]",
      "text/plain": [
       "<Figure size 432x288 with 1 Axes>"
      ]
     },
     "metadata": {
      "needs_background": "light"
     },
     "output_type": "display_data"
    },
    {
     "data": {
      "image/png": "[encoded data removed]",
      "text/plain": [
       "<Figure size 432x288 with 1 Axes>"
      ]
     },
     "metadata": {
      "needs_background": "light"
     },
     "output_type": "display_data"
    },
    {
     "data": {
      "image/png": "[encoded data removed]",
      "text/plain": [
       "<Figure size 432x288 with 1 Axes>"
      ]
     },
     "metadata": {
      "needs_background": "light"
     },
     "output_type": "display_data"
    },
    {
     "data": {
      "image/png": "[encoded data removed]",
      "text/plain": [
       "<Figure size 432x288 with 1 Axes>"
      ]
     },
     "metadata": {
      "needs_background": "light"
     },
     "output_type": "display_data"
    },
    {
     "data": {
      "image/png": "[encoded data removed]",
      "text/plain": [
       "<Figure size 432x288 with 1 Axes>"
      ]
     },
     "metadata": {
      "needs_background": "light"
     },
     "output_type": "display_data"
    },
    {
     "data": {
      "image/png": "[encoded data removed]",
      "text/plain": [
       "<Figure size 432x288 with 1 Axes>"
      ]
     },
     "metadata": {
      "needs_background": "light"
     },
     "output_type": "display_data"
    },
    {
     "data": {
      "image/png": "[encoded data removed]",
      "text/plain": [
       "<Figure size 432x288 with 1 Axes>"
      ]
     },
     "metadata": {
      "needs_background": "light"
     },
     "output_type": "display_data"
    },
    {
     "data": {
      "image/png": "[encoded data removed]",
      "text/plain": [
       "<Figure size 432x288 with 1 Axes>"
      ]
     },
     "metadata": {
      "needs_background": "light"
     },
     "output_type": "display_data"
    },
    {
     "data": {
      "image/png": "[encoded data removed]",
      "text/plain": [
       "<Figure size 432x288 with 1 Axes>"
      ]
     },
     "metadata": {
      "needs_background": "light"
     },
     "output_type": "display_data"
    },
    {
     "data": {
      "image/png": "[encoded data removed]",
      "text/plain": [
       "<Figure size 432x288 with 1 Axes>"
      ]
     },
     "metadata": {
      "needs_background": "light"
     },
     "output_type": "display_data"
    },
    {
     "data": {
      "image/png": "[encoded data removed]",
      "text/plain": [
       "<Figure size 432x288 with 1 Axes>"
      ]
     },
     "metadata": {
      "needs_background": "light"
     },
     "output_type": "display_data"
    },
    {
     "data": {
      "image/png": "[encoded data removed]",
      "text/plain": [
       "<Figure size 432x288 with 1 Axes>"
      ]
     },
     "metadata": {
      "needs_background": "light"
     },
     "output_type": "display_data"
    },
    {
     "data": {
      "image/png": "[encoded data removed]",
      "text/plain": [
       "<Figure size 432x288 with 1 Axes>"
      ]
     },
     "metadata": {
      "needs_background": "light"
     },
     "output_type": "display_data"
    },
    {
     "data": {
      "image/png": "[encoded data removed]",
      "text/plain": [
       "<Figure size 432x288 with 1 Axes>"
      ]
     },
     "metadata": {
      "needs_background": "light"
     },
     "output_type": "display_data"
    },
    {
     "data": {
      "image/png": "[encoded data removed]",
      "text/plain": [
       "<Figure size 432x288 with 1 Axes>"
      ]
     },
     "metadata": {
      "needs_background": "light"
     },
     "output_type": "display_data"
    }
   ],
   "source": [
    "# pred\n",
    "\n",
    "data[out_p][0][14].shape  # 배치중 0번째 이미지의 15번째 스텝 결과\n",
    "print(len(data[out_p_filt][0]))\n",
    "for i in range(len(data[out_p_filt][0])):\n",
    "    plt.imshow(data[out_p_filt][index][i].reshape(28, 28))\n",
    "    plt.gray()\n",
    "    plt.show()"
   ]
  }
 ],
 "metadata": {
  "kernelspec": {
   "display_name": "Python 3",
   "language": "python",
   "name": "python3"
  },
  "language_info": {
   "codemirror_mode": {
    "name": "ipython",
    "version": 3
   },
   "file_extension": ".py",
   "mimetype": "text/x-python",
   "name": "python",
   "nbconvert_exporter": "python",
   "pygments_lexer": "ipython3",
   "version": "3.7.7"
  }
 },
 "nbformat": 4,
 "nbformat_minor": 4
}
